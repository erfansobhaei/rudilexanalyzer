{
 "cells": [
  {
   "cell_type": "code",
   "execution_count": 207,
   "metadata": {},
   "outputs": [
    {
     "name": "stdout",
     "output_type": "stream",
     "text": [
      "%Comment := %TraditionalComment\n",
      "\n",
      "%Comment := %EndOfLineComment\n",
      "\n",
      "%TraditionalComment := ~/ ~* %CommentTail\n",
      "\n",
      "%CommentTail := ~* %CommentTailStar\n",
      "\n",
      "%CommentTail := %NotStar %CommentTail\n",
      "\n",
      "%CommentTailStar := ~/\n",
      "\n",
      "%CommentTailStar := ~* %CommentTailStar\n",
      "\n",
      "%CommentTailStar := %NotStarNotSlash %CommentTail\n",
      "\n",
      "%NotStar := %InputCharacter\n",
      "\n",
      "%NotStar := %LineTerminator\n",
      "\n",
      "%NotStarNotSlash := %InputCharacter\n",
      "\n",
      "%NotStarNotSlash := %LineTerminator\n",
      "\n",
      "%EndOfLineComment := ~/ ~/ %InputCharacter\n",
      "\n"
     ]
    },
    {
     "data": {
      "text/plain": [
       "[('', 'Comment'), ('', 'TraditionalComment'), ('s', '')]"
      ]
     },
     "execution_count": 207,
     "metadata": {},
     "output_type": "execute_result"
    }
   ],
   "source": [
    "import re\n",
    "\n",
    "# Specifying grammar patterns\n",
    "pattern_list = [ r\"~([^%~\\n ]*)\", r\"%([\\w+][?\\w]*)\"]\n",
    "token_regex = re.compile(r\"{}|{}\".format(pattern_list[1],pattern_list[0]))\n",
    "\n",
    "def analyze_grammar(filepath):\n",
    "    result = []\n",
    "    # Opening grammar file\n",
    "    with open(filepath, 'r') as reader:\n",
    "        # Reading all lines\n",
    "        lines = reader.readlines()\n",
    "\n",
    "    # Removing blank lines\n",
    "    while '\\n' in lines: lines.remove('\\n')\n",
    "\n",
    "    # Finding all terminals and nonterminals\n",
    "    for i in range(len(lines)):\n",
    "        print(lines[i]+\"lkdsjf\")\n",
    "        if (\":=\" in lines[i]):\n",
    "            token = token_regex.findall(lines[i])\n",
    "#             print(token)\n",
    "#             for n, i in enumerate(token):\n",
    "#                 if (i[0]):\n",
    "#                     print(i)\n",
    "                \n",
    "                \n",
    "        \n",
    "        \n",
    "    return tokens\n",
    "    \n",
    "\n",
    "(analyze_grammar(\"grammar_comment.txt\"))\n"
   ]
  },
  {
   "cell_type": "code",
   "execution_count": 188,
   "metadata": {},
   "outputs": [
    {
     "ename": "AttributeError",
     "evalue": "'str' object has no attribute 'append'",
     "output_type": "error",
     "traceback": [
      "\u001b[0;31m---------------------------------------------------------------------------\u001b[0m",
      "\u001b[0;31mAttributeError\u001b[0m                            Traceback (most recent call last)",
      "\u001b[0;32m<ipython-input-188-c2dfa1b0c652>\u001b[0m in \u001b[0;36m<module>\u001b[0;34m\u001b[0m\n\u001b[1;32m      1\u001b[0m \u001b[0ms\u001b[0m \u001b[0;34m=\u001b[0m \u001b[0;34m\"sdf\"\u001b[0m\u001b[0;34m\u001b[0m\u001b[0;34m\u001b[0m\u001b[0m\n\u001b[0;32m----> 2\u001b[0;31m \u001b[0mprint\u001b[0m\u001b[0;34m(\u001b[0m\u001b[0;34m\"s\"\u001b[0m\u001b[0;34m.\u001b[0m\u001b[0mappend\u001b[0m\u001b[0;34m(\u001b[0m\u001b[0ms\u001b[0m\u001b[0;34m)\u001b[0m\u001b[0;34m)\u001b[0m\u001b[0;34m\u001b[0m\u001b[0;34m\u001b[0m\u001b[0m\n\u001b[0m",
      "\u001b[0;31mAttributeError\u001b[0m: 'str' object has no attribute 'append'"
     ]
    }
   ],
   "source": [
    "s = \"sdf\"\n",
    "print(\"s\".append(s))"
   ]
  }
 ],
 "metadata": {
  "kernelspec": {
   "display_name": "Python 3",
   "language": "python",
   "name": "python3"
  },
  "language_info": {
   "codemirror_mode": {
    "name": "ipython",
    "version": 3
   },
   "file_extension": ".py",
   "mimetype": "text/x-python",
   "name": "python",
   "nbconvert_exporter": "python",
   "pygments_lexer": "ipython3",
   "version": "3.8.5"
  }
 },
 "nbformat": 4,
 "nbformat_minor": 4
}
