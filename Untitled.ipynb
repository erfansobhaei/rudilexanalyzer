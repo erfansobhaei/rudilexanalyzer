{
 "cells": [
  {
   "cell_type": "code",
   "execution_count": 269,
   "metadata": {},
   "outputs": [
    {
     "name": "stdout",
     "output_type": "stream",
     "text": [
      "%Comment :=  %TraditionalComment\n",
      "%Comment :=  %EndOfLineComment\n",
      "%TraditionalComment :=  ~/ ~* %CommentTail\n",
      "%CommentTail :=  ~* %CommentTailStar\n",
      "%CommentTail :=  %NotStar %CommentTail\n",
      "%CommentTailStar :=  ~/\n",
      "%CommentTailStar :=  ~* %CommentTailStar\n",
      "%CommentTailStar :=  %NotStarNotSlash %CommentTail\n",
      "%NotStar :=  %InputCharacter\n",
      "%NotStar :=  %LineTerminator\n",
      "%NotStarNotSlash :=  %InputCharacter\n",
      "%NotStarNotSlash :=  %LineTerminator\n",
      "%EndOfLineComment :=  ~/ ~/ %InputCharacter\n"
     ]
    }
   ],
   "source": [
    "import re\n",
    "\n",
    "# Specifying grammar patterns\n",
    "pattern_list = [ r\"~([^%~\\n ]*)\", r\"%([\\w+][?\\w]*)\"]\n",
    "token_regex = re.compile(r\"{}|{}\".format(pattern_list[1],pattern_list[0]))\n",
    "\n",
    "def analyze_grammar(filepath):\n",
    "    result = []\n",
    "    # Opening grammar file\n",
    "    with open(filepath, 'r') as reader:\n",
    "        # Reading all lines\n",
    "        lines = reader.readlines()\n",
    "\n",
    "    # Removing blank lines\n",
    "    while '\\n' in lines: lines.remove('\\n')\n",
    "\n",
    "    # Finding all tokens\n",
    "    for i in range(len(lines)):\n",
    "        tokens = token_regex.findall(lines[i])\n",
    "        tokens_list = []\n",
    "        \n",
    "        # Generating final list from entry\n",
    "        for token in tokens:\n",
    "            if (token[0]):\n",
    "                tokens_list.append(\"%\"+token[0])\n",
    "            elif (token[1]):\n",
    "                tokens_list.append(\"~\"+token[1])\n",
    "                \n",
    "        # Adding new product rule\n",
    "        result.append(tokens_list)\n",
    "                \n",
    "    return result\n",
    "\n",
    "\n",
    "def print_grammar(grammar):\n",
    "    for rule in grammar:\n",
    "        tmp = list(rule)\n",
    "        tmp[0] = tmp[0] + \" := \"\n",
    "        result = \" \".join(tmp)\n",
    "        print(result)\n",
    "        \n",
    "\n",
    "grammar_comment = analyze_grammar(\"grammar_comment.txt\")\n",
    "print_grammar(grammar_comment)"
   ]
  },
  {
   "cell_type": "code",
   "execution_count": 251,
   "metadata": {},
   "outputs": [
    {
     "data": {
      "text/plain": [
       "['s', 'f']"
      ]
     },
     "execution_count": 251,
     "metadata": {},
     "output_type": "execute_result"
    }
   ],
   "source": [
    "s = [\"s\", \"f\"]\n",
    "d = list(s)\n",
    "s[0] = s[0]+\"2\"\n",
    "s[0]\n",
    "d"
   ]
  }
 ],
 "metadata": {
  "kernelspec": {
   "display_name": "Python 3",
   "language": "python",
   "name": "python3"
  },
  "language_info": {
   "codemirror_mode": {
    "name": "ipython",
    "version": 3
   },
   "file_extension": ".py",
   "mimetype": "text/x-python",
   "name": "python",
   "nbconvert_exporter": "python",
   "pygments_lexer": "ipython3",
   "version": "3.8.5"
  }
 },
 "nbformat": 4,
 "nbformat_minor": 4
}
