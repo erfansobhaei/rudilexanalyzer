{
 "cells": [
  {
   "cell_type": "code",
   "execution_count": 105,
   "metadata": {},
   "outputs": [
    {
     "name": "stdout",
     "output_type": "stream",
     "text": [
      "[('', 'Comment'), ('', 'TraditionalComment'), ('s', '')]\n"
     ]
    }
   ],
   "source": [
    "import re\n",
    "\n",
    "# specifying grammar patterns\n",
    "pattern_list = [ r\"~([^%~ ]*)\", r\"%([\\w+][?\\w]*)\"]\n",
    "terminal_regex = re.compile(pattern_list[0])\n",
    "nonterminal_regex = re.compile(pattern_list[1])\n",
    "token_regex = re.compile(r\"{}|{}\".format(pattern_list[0],pattern_list[1]))\n",
    "\n",
    "# Opening grammar file\n",
    "with open(\"grammar_comment.txt\", 'r') as reader:\n",
    "    # Reading all lines\n",
    "    lines = reader.readlines()\n",
    "    # Removing blank lines\n",
    "    while '\\n' in lines: lines.remove('\\n')\n",
    "    # Finding all terminals and nonterminals\n",
    "    tokens = token_regex.findall(s)\n",
    "    "
   ]
  },
  {
   "cell_type": "code",
   "execution_count": null,
   "metadata": {},
   "outputs": [],
   "source": []
  }
 ],
 "metadata": {
  "kernelspec": {
   "display_name": "Python 3",
   "language": "python",
   "name": "python3"
  },
  "language_info": {
   "codemirror_mode": {
    "name": "ipython",
    "version": 3
   },
   "file_extension": ".py",
   "mimetype": "text/x-python",
   "name": "python",
   "nbconvert_exporter": "python",
   "pygments_lexer": "ipython3",
   "version": "3.8.5"
  }
 },
 "nbformat": 4,
 "nbformat_minor": 4
}
